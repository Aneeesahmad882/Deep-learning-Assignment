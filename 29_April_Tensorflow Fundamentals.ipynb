{
 "cells": [
  {
   "cell_type": "code",
   "execution_count": 4,
   "id": "ff69038a-9327-4e2e-a0ec-c53626bbade8",
   "metadata": {},
   "outputs": [
    {
     "name": "stdout",
     "output_type": "stream",
     "text": [
      "Collecting tensorflow\n",
      "  Downloading tensorflow-2.16.1-cp310-cp310-manylinux_2_17_x86_64.manylinux2014_x86_64.whl (589.8 MB)\n",
      "\u001b[2K     \u001b[90m━━━━━━━━━━━━━━━━━━━━━━━━━━━━━━━━━━━━━━━\u001b[0m \u001b[32m589.8/589.8 MB\u001b[0m \u001b[31m2.3 MB/s\u001b[0m eta \u001b[36m0:00:00\u001b[0m00:01\u001b[0m00:01\u001b[0m\n",
      "\u001b[?25hCollecting google-pasta>=0.1.1\n",
      "  Downloading google_pasta-0.2.0-py3-none-any.whl (57 kB)\n",
      "\u001b[2K     \u001b[90m━━━━━━━━━━━━━━━━━━━━━━━━━━━━━━━━━━━━━━━━\u001b[0m \u001b[32m57.5/57.5 kB\u001b[0m \u001b[31m10.5 MB/s\u001b[0m eta \u001b[36m0:00:00\u001b[0m\n",
      "\u001b[?25hCollecting flatbuffers>=23.5.26\n",
      "  Downloading flatbuffers-24.3.25-py2.py3-none-any.whl (26 kB)\n",
      "Collecting libclang>=13.0.0\n",
      "  Downloading libclang-18.1.1-py2.py3-none-manylinux2010_x86_64.whl (24.5 MB)\n",
      "\u001b[2K     \u001b[90m━━━━━━━━━━━━━━━━━━━━━━━━━━━━━━━━━━━━━━━━\u001b[0m \u001b[32m24.5/24.5 MB\u001b[0m \u001b[31m53.7 MB/s\u001b[0m eta \u001b[36m0:00:00\u001b[0m00:01\u001b[0m00:01\u001b[0m\n",
      "\u001b[?25hRequirement already satisfied: typing-extensions>=3.6.6 in /opt/conda/lib/python3.10/site-packages (from tensorflow) (4.4.0)\n",
      "Collecting absl-py>=1.0.0\n",
      "  Downloading absl_py-2.1.0-py3-none-any.whl (133 kB)\n",
      "\u001b[2K     \u001b[90m━━━━━━━━━━━━━━━━━━━━━━━━━━━━━━━━━━━━━━\u001b[0m \u001b[32m133.7/133.7 kB\u001b[0m \u001b[31m21.9 MB/s\u001b[0m eta \u001b[36m0:00:00\u001b[0m\n",
      "\u001b[?25hRequirement already satisfied: packaging in /opt/conda/lib/python3.10/site-packages (from tensorflow) (22.0)\n",
      "Collecting gast!=0.5.0,!=0.5.1,!=0.5.2,>=0.2.1\n",
      "  Downloading gast-0.5.4-py3-none-any.whl (19 kB)\n",
      "Requirement already satisfied: six>=1.12.0 in /opt/conda/lib/python3.10/site-packages (from tensorflow) (1.16.0)\n",
      "Requirement already satisfied: setuptools in /opt/conda/lib/python3.10/site-packages (from tensorflow) (65.5.1)\n",
      "Requirement already satisfied: numpy<2.0.0,>=1.23.5 in /opt/conda/lib/python3.10/site-packages (from tensorflow) (1.23.5)\n",
      "Collecting grpcio<2.0,>=1.24.3\n",
      "  Downloading grpcio-1.62.2-cp310-cp310-manylinux_2_17_x86_64.manylinux2014_x86_64.whl (5.5 MB)\n",
      "\u001b[2K     \u001b[90m━━━━━━━━━━━━━━━━━━━━━━━━━━━━━━━━━━━━━━━━\u001b[0m \u001b[32m5.5/5.5 MB\u001b[0m \u001b[31m77.9 MB/s\u001b[0m eta \u001b[36m0:00:00\u001b[0m:00:01\u001b[0m00:01\u001b[0m\n",
      "\u001b[?25hCollecting tensorflow-io-gcs-filesystem>=0.23.1\n",
      "  Downloading tensorflow_io_gcs_filesystem-0.36.0-cp310-cp310-manylinux_2_17_x86_64.manylinux2014_x86_64.whl (5.1 MB)\n",
      "\u001b[2K     \u001b[90m━━━━━━━━━━━━━━━━━━━━━━━━━━━━━━━━━━━━━━━━\u001b[0m \u001b[32m5.1/5.1 MB\u001b[0m \u001b[31m76.6 MB/s\u001b[0m eta \u001b[36m0:00:00\u001b[0mta \u001b[36m0:00:01\u001b[0m\n",
      "\u001b[?25hCollecting wrapt>=1.11.0\n",
      "  Downloading wrapt-1.16.0-cp310-cp310-manylinux_2_5_x86_64.manylinux1_x86_64.manylinux_2_17_x86_64.manylinux2014_x86_64.whl (80 kB)\n",
      "\u001b[2K     \u001b[90m━━━━━━━━━━━━━━━━━━━━━━━━━━━━━━━━━━━━━━━━\u001b[0m \u001b[32m80.3/80.3 kB\u001b[0m \u001b[31m16.1 MB/s\u001b[0m eta \u001b[36m0:00:00\u001b[0m\n",
      "\u001b[?25hCollecting tensorboard<2.17,>=2.16\n",
      "  Downloading tensorboard-2.16.2-py3-none-any.whl (5.5 MB)\n",
      "\u001b[2K     \u001b[90m━━━━━━━━━━━━━━━━━━━━━━━━━━━━━━━━━━━━━━━━\u001b[0m \u001b[32m5.5/5.5 MB\u001b[0m \u001b[31m75.3 MB/s\u001b[0m eta \u001b[36m0:00:00\u001b[0m:00:01\u001b[0m00:01\u001b[0m\n",
      "\u001b[?25hCollecting opt-einsum>=2.3.2\n",
      "  Downloading opt_einsum-3.3.0-py3-none-any.whl (65 kB)\n",
      "\u001b[2K     \u001b[90m━━━━━━━━━━━━━━━━━━━━━━━━━━━━━━━━━━━━━━━━\u001b[0m \u001b[32m65.5/65.5 kB\u001b[0m \u001b[31m12.2 MB/s\u001b[0m eta \u001b[36m0:00:00\u001b[0m\n",
      "\u001b[?25hCollecting keras>=3.0.0\n",
      "  Downloading keras-3.3.3-py3-none-any.whl (1.1 MB)\n",
      "\u001b[2K     \u001b[90m━━━━━━━━━━━━━━━━━━━━━━━━━━━━━━━━━━━━━━━━\u001b[0m \u001b[32m1.1/1.1 MB\u001b[0m \u001b[31m66.2 MB/s\u001b[0m eta \u001b[36m0:00:00\u001b[0m\n",
      "\u001b[?25hCollecting h5py>=3.10.0\n",
      "  Downloading h5py-3.11.0-cp310-cp310-manylinux_2_17_x86_64.manylinux2014_x86_64.whl (5.3 MB)\n",
      "\u001b[2K     \u001b[90m━━━━━━━━━━━━━━━━━━━━━━━━━━━━━━━━━━━━━━━━\u001b[0m \u001b[32m5.3/5.3 MB\u001b[0m \u001b[31m78.9 MB/s\u001b[0m eta \u001b[36m0:00:00\u001b[0mta \u001b[36m0:00:01\u001b[0m\n",
      "\u001b[?25hCollecting astunparse>=1.6.0\n",
      "  Downloading astunparse-1.6.3-py2.py3-none-any.whl (12 kB)\n",
      "Requirement already satisfied: requests<3,>=2.21.0 in /opt/conda/lib/python3.10/site-packages (from tensorflow) (2.28.1)\n",
      "Requirement already satisfied: protobuf!=4.21.0,!=4.21.1,!=4.21.2,!=4.21.3,!=4.21.4,!=4.21.5,<5.0.0dev,>=3.20.3 in /opt/conda/lib/python3.10/site-packages (from tensorflow) (4.21.11)\n",
      "Collecting ml-dtypes~=0.3.1\n",
      "  Downloading ml_dtypes-0.3.2-cp310-cp310-manylinux_2_17_x86_64.manylinux2014_x86_64.whl (2.2 MB)\n",
      "\u001b[2K     \u001b[90m━━━━━━━━━━━━━━━━━━━━━━━━━━━━━━━━━━━━━━━━\u001b[0m \u001b[32m2.2/2.2 MB\u001b[0m \u001b[31m73.0 MB/s\u001b[0m eta \u001b[36m0:00:00\u001b[0m\n",
      "\u001b[?25hCollecting termcolor>=1.1.0\n",
      "  Downloading termcolor-2.4.0-py3-none-any.whl (7.7 kB)\n",
      "Requirement already satisfied: wheel<1.0,>=0.23.0 in /opt/conda/lib/python3.10/site-packages (from astunparse>=1.6.0->tensorflow) (0.38.4)\n",
      "Collecting optree\n",
      "  Downloading optree-0.11.0-cp310-cp310-manylinux_2_17_x86_64.manylinux2014_x86_64.whl (311 kB)\n",
      "\u001b[2K     \u001b[90m━━━━━━━━━━━━━━━━━━━━━━━━━━━━━━━━━━━━━━\u001b[0m \u001b[32m311.2/311.2 kB\u001b[0m \u001b[31m37.8 MB/s\u001b[0m eta \u001b[36m0:00:00\u001b[0m\n",
      "\u001b[?25hCollecting namex\n",
      "  Downloading namex-0.0.8-py3-none-any.whl (5.8 kB)\n",
      "Collecting rich\n",
      "  Downloading rich-13.7.1-py3-none-any.whl (240 kB)\n",
      "\u001b[2K     \u001b[90m━━━━━━━━━━━━━━━━━━━━━━━━━━━━━━━━━━━━━━\u001b[0m \u001b[32m240.7/240.7 kB\u001b[0m \u001b[31m33.2 MB/s\u001b[0m eta \u001b[36m0:00:00\u001b[0m\n",
      "\u001b[?25hRequirement already satisfied: certifi>=2017.4.17 in /opt/conda/lib/python3.10/site-packages (from requests<3,>=2.21.0->tensorflow) (2022.12.7)\n",
      "Requirement already satisfied: urllib3<1.27,>=1.21.1 in /opt/conda/lib/python3.10/site-packages (from requests<3,>=2.21.0->tensorflow) (1.26.13)\n",
      "Requirement already satisfied: idna<4,>=2.5 in /opt/conda/lib/python3.10/site-packages (from requests<3,>=2.21.0->tensorflow) (3.4)\n",
      "Requirement already satisfied: charset-normalizer<3,>=2 in /opt/conda/lib/python3.10/site-packages (from requests<3,>=2.21.0->tensorflow) (2.1.1)\n",
      "Collecting tensorboard-data-server<0.8.0,>=0.7.0\n",
      "  Downloading tensorboard_data_server-0.7.2-py3-none-manylinux_2_31_x86_64.whl (6.6 MB)\n",
      "\u001b[2K     \u001b[90m━━━━━━━━━━━━━━━━━━━━━━━━━━━━━━━━━━━━━━━━\u001b[0m \u001b[32m6.6/6.6 MB\u001b[0m \u001b[31m80.5 MB/s\u001b[0m eta \u001b[36m0:00:00\u001b[0m:00:01\u001b[0m00:01\u001b[0m\n",
      "\u001b[?25hCollecting markdown>=2.6.8\n",
      "  Downloading Markdown-3.6-py3-none-any.whl (105 kB)\n",
      "\u001b[2K     \u001b[90m━━━━━━━━━━━━━━━━━━━━━━━━━━━━━━━━━━━━━━\u001b[0m \u001b[32m105.4/105.4 kB\u001b[0m \u001b[31m10.6 MB/s\u001b[0m eta \u001b[36m0:00:00\u001b[0m\n",
      "\u001b[?25hCollecting werkzeug>=1.0.1\n",
      "  Downloading werkzeug-3.0.2-py3-none-any.whl (226 kB)\n",
      "\u001b[2K     \u001b[90m━━━━━━━━━━━━━━━━━━━━━━━━━━━━━━━━━━━━━━\u001b[0m \u001b[32m226.8/226.8 kB\u001b[0m \u001b[31m31.0 MB/s\u001b[0m eta \u001b[36m0:00:00\u001b[0m\n",
      "\u001b[?25hRequirement already satisfied: MarkupSafe>=2.1.1 in /opt/conda/lib/python3.10/site-packages (from werkzeug>=1.0.1->tensorboard<2.17,>=2.16->tensorflow) (2.1.1)\n",
      "Requirement already satisfied: pygments<3.0.0,>=2.13.0 in /opt/conda/lib/python3.10/site-packages (from rich->keras>=3.0.0->tensorflow) (2.13.0)\n",
      "Collecting markdown-it-py>=2.2.0\n",
      "  Downloading markdown_it_py-3.0.0-py3-none-any.whl (87 kB)\n",
      "\u001b[2K     \u001b[90m━━━━━━━━━━━━━━━━━━━━━━━━━━━━━━━━━━━━━━━━\u001b[0m \u001b[32m87.5/87.5 kB\u001b[0m \u001b[31m17.3 MB/s\u001b[0m eta \u001b[36m0:00:00\u001b[0m\n",
      "\u001b[?25hCollecting mdurl~=0.1\n",
      "  Downloading mdurl-0.1.2-py3-none-any.whl (10.0 kB)\n",
      "Installing collected packages: namex, libclang, flatbuffers, wrapt, werkzeug, termcolor, tensorflow-io-gcs-filesystem, tensorboard-data-server, optree, opt-einsum, ml-dtypes, mdurl, markdown, h5py, grpcio, google-pasta, gast, astunparse, absl-py, tensorboard, markdown-it-py, rich, keras, tensorflow\n",
      "  Attempting uninstall: h5py\n",
      "    Found existing installation: h5py 3.7.0\n",
      "    Uninstalling h5py-3.7.0:\n",
      "      Successfully uninstalled h5py-3.7.0\n",
      "Successfully installed absl-py-2.1.0 astunparse-1.6.3 flatbuffers-24.3.25 gast-0.5.4 google-pasta-0.2.0 grpcio-1.62.2 h5py-3.11.0 keras-3.3.3 libclang-18.1.1 markdown-3.6 markdown-it-py-3.0.0 mdurl-0.1.2 ml-dtypes-0.3.2 namex-0.0.8 opt-einsum-3.3.0 optree-0.11.0 rich-13.7.1 tensorboard-2.16.2 tensorboard-data-server-0.7.2 tensorflow-2.16.1 tensorflow-io-gcs-filesystem-0.36.0 termcolor-2.4.0 werkzeug-3.0.2 wrapt-1.16.0\n"
     ]
    }
   ],
   "source": [
    "!pip install tensorflow"
   ]
  },
  {
   "cell_type": "markdown",
   "id": "710711eb-a90e-4602-8240-e5663bcc730f",
   "metadata": {},
   "source": [
    "# Answer1\n",
    "TensorFlow, being a powerful framework for machine learning and deep learning, employs various data structures to handle data efficiently. Some of the key data structures used in TensorFlow include:\n",
    "\n",
    "1. **Tensors**: Tensors are the fundamental data structure in TensorFlow, representing multi-dimensional arrays. These can be scalars, vectors, matrices, or higher-dimensional arrays. TensorFlow tensors are similar to NumPy arrays."
   ]
  },
  {
   "cell_type": "code",
   "execution_count": 7,
   "id": "b844a5f7-71e6-4a90-87b3-2311fea48b92",
   "metadata": {},
   "outputs": [
    {
     "name": "stdout",
     "output_type": "stream",
     "text": [
      "tf.Tensor(\n",
      "[[1 2 3]\n",
      " [4 5 6]], shape=(2, 3), dtype=int32)\n"
     ]
    }
   ],
   "source": [
    "import tensorflow as tf\n",
    "\n",
    "# Creating a tensor\n",
    "tensor = tf.constant([[1, 2, 3], [4, 5, 6]])\n",
    "print(tensor)"
   ]
  },
  {
   "cell_type": "markdown",
   "id": "53be4333-6861-43b8-ac7e-b9e9936dfab0",
   "metadata": {},
   "source": [
    "2. **Variables**: Variables are mutable tensors that hold values that can be updated during training. They are typically used to hold model parameters such as weights and biases.Example:"
   ]
  },
  {
   "cell_type": "code",
   "execution_count": 10,
   "id": "eee1b3f7-b1cc-4165-8cbe-ec9d2d93b46b",
   "metadata": {},
   "outputs": [
    {
     "name": "stdout",
     "output_type": "stream",
     "text": [
      "5.0\n"
     ]
    }
   ],
   "source": [
    "# Creating a variable\n",
    "var = tf.Variable(5.0)\n",
    "print(var.numpy())"
   ]
  },
  {
   "cell_type": "markdown",
   "id": "03d89c32-d59d-403f-b865-0f7f1892fed7",
   "metadata": {},
   "source": [
    "3. **Datasets**: TensorFlow provides the tf.data.Dataset API for building efficient input pipelines. Datasets allow you to work with large amounts of data, perform transformations, and iterate over the data during training.Example:"
   ]
  },
  {
   "cell_type": "code",
   "execution_count": 15,
   "id": "3993b06f-d17c-4671-a4d8-83613a6607b8",
   "metadata": {},
   "outputs": [
    {
     "name": "stdout",
     "output_type": "stream",
     "text": [
      "<_TensorSliceDataset element_spec=TensorSpec(shape=(), dtype=tf.int32, name=None)>\n"
     ]
    }
   ],
   "source": [
    "# Creating a dataset from a list\n",
    "dataset = tf.data.Dataset.from_tensor_slices([1, 2, 3, 4, 5])\n",
    "print(dataset)\n",
    "                                             "
   ]
  },
  {
   "cell_type": "markdown",
   "id": "d58644be-51a4-40c3-9db6-a154e2cf5b68",
   "metadata": {},
   "source": [
    "4. **Sparse Tensors:** Sparse tensors are used to efficiently represent tensors with a large number of zero values. They are commonly used in applications such as natural language processing (NLP) and computer vision.Example:"
   ]
  },
  {
   "cell_type": "code",
   "execution_count": 26,
   "id": "b8c95c69-8513-4467-b3d9-3d2f36618bdd",
   "metadata": {},
   "outputs": [
    {
     "name": "stdout",
     "output_type": "stream",
     "text": [
      "SparseTensor(indices=tf.Tensor(\n",
      "[[0 0]\n",
      " [1 2]], shape=(2, 2), dtype=int64), values=tf.Tensor([1 2], shape=(2,), dtype=int32), dense_shape=tf.Tensor([3 4], shape=(2,), dtype=int64))\n"
     ]
    }
   ],
   "source": [
    "# Creating a sparse tensor with indices of dtype int64\n",
    "indices = tf.constant([[0, 0], [1, 2]])\n",
    "indices = tf.cast(indices, tf.int64)  # Casting indices to int64\n",
    "values = tf.constant([1, 2], dtype=tf.int32)\n",
    "dense_shape = tf.constant([3, 4])\n",
    "dense_shape = tf.cast(dense_shape,tf.int64)\n",
    "sparse_tensor = tf.sparse.SparseTensor(indices, values, dense_shape)\n",
    "print(sparse_tensor)"
   ]
  },
  {
   "cell_type": "markdown",
   "id": "8471191b-89ce-465d-8b04-24aad3e1eda4",
   "metadata": {},
   "source": [
    "5. **Ragged Tensors:** Ragged tensors are used to represent tensors with non-uniform shapes. They are useful when working with sequences of varying lengths, such as sentences of different lengths in NLP tasks.\n",
    "* Example:"
   ]
  },
  {
   "cell_type": "code",
   "execution_count": 27,
   "id": "b4461ca9-ae9c-46cc-965c-c3aabb08d2be",
   "metadata": {},
   "outputs": [
    {
     "name": "stdout",
     "output_type": "stream",
     "text": [
      "<tf.RaggedTensor [[1, 2], [3, 4, 5], [6]]>\n"
     ]
    }
   ],
   "source": [
    "# Creating a ragged tensor\n",
    "ragged_tensor = tf.ragged.constant([[1, 2], [3, 4, 5], [6]])\n",
    "print(ragged_tensor)"
   ]
  },
  {
   "cell_type": "markdown",
   "id": "382008bb-deca-43f4-8f63-cb7aea7d56cb",
   "metadata": {},
   "source": [
    "\n",
    "In TensorFlow, both constants and variables are used to hold data, but they have different properties and purposes:\n",
    "\n",
    "1. **TensorFlow Constant:**\n",
    "* Constants are immutable tensors, meaning their values cannot be changed once they are defined.\n",
    "* They are typically used to represent fixed values such as hyperparameters or input data that remain constant throughout the execution of a TensorFlow graph.\n",
    "* Constants are created using the tf.constant() function."
   ]
  },
  {
   "cell_type": "code",
   "execution_count": 29,
   "id": "f8660429-4ef4-4084-ada1-4efdd80bbda2",
   "metadata": {},
   "outputs": [
    {
     "name": "stdout",
     "output_type": "stream",
     "text": [
      "tf.Tensor([1 2 3], shape=(3,), dtype=int32)\n"
     ]
    }
   ],
   "source": [
    "import tensorflow as tf\n",
    "\n",
    "# Creating a TensorFlow constant\n",
    "constant_tensor = tf.constant([1, 2, 3])\n",
    "print(constant_tensor)"
   ]
  },
  {
   "cell_type": "markdown",
   "id": "3dc02fea-9c13-4bea-99ca-866d58b66a52",
   "metadata": {},
   "source": [
    "2. **TensorFlow Variable:**\n",
    "* Variables are mutable tensors, meaning their values can be modified during the execution of a TensorFlow graph.\n",
    "* They are commonly used to hold model parameters such as weights and biases that need to be updated during training.\n",
    "* Variables are created using the tf.Variable() class."
   ]
  },
  {
   "cell_type": "code",
   "execution_count": 32,
   "id": "126fae73-53f5-4689-bd43-b9cd2e572a8e",
   "metadata": {},
   "outputs": [
    {
     "name": "stdout",
     "output_type": "stream",
     "text": [
      "<tf.Variable 'Variable:0' shape=(3, 3) dtype=float32, numpy=\n",
      "array([[-0.37941828, -0.78046685, -0.577344  ],\n",
      "       [ 0.7941104 , -0.8520367 , -0.9471683 ],\n",
      "       [-1.8896961 ,  1.6038125 ,  0.6834448 ]], dtype=float32)>\n"
     ]
    }
   ],
   "source": [
    "import tensorflow as tf\n",
    "\n",
    "# Creating a TensorFlow variable\n",
    "initial_value = tf.random.normal(shape=(3, 3))  # Example initialization\n",
    "variable = tf.Variable(initial_value)\n",
    "print(variable)"
   ]
  },
  {
   "cell_type": "markdown",
   "id": "6620a74b-91e5-45aa-8dd9-395e2377a036",
   "metadata": {},
   "source": [
    "\n",
    "In TensorFlow, matrix operations like addition, multiplication, and element-wise operations are fundamental for building and training neural networks and other machine learning models. Let's break down each operation:\n",
    "\n",
    "1. **Matrix Addition:**\n",
    "Matrix addition in TensorFlow is straightforward. Given two matrices A and B, you can add them using the tf.add() function or the + operator. Here's how you would do it:"
   ]
  },
  {
   "cell_type": "code",
   "execution_count": 37,
   "id": "d1103c35-b0a7-4513-ab96-6229b424b6e1",
   "metadata": {},
   "outputs": [
    {
     "name": "stdout",
     "output_type": "stream",
     "text": [
      "[[ 6  8]\n",
      " [10 12]]\n"
     ]
    }
   ],
   "source": [
    "import tensorflow as tf\n",
    "A = tf.constant([[1,2],[3,4]])\n",
    "B = tf.constant([[5,6],[7,8]])\n",
    "\n",
    "#perform matrix addition\n",
    "C = tf.add(A,B)\n",
    "\n",
    "print(C.numpy())"
   ]
  },
  {
   "cell_type": "markdown",
   "id": "bd738302-8295-41f1-91a4-5514ae81bbe6",
   "metadata": {},
   "source": [
    "2. **Matrix Multiplication:**\n",
    "TensorFlow provides several ways to perform matrix multiplication. The most common methods are using the tf.matmul() function or the @ operator. Here's how you would do it:"
   ]
  },
  {
   "cell_type": "code",
   "execution_count": 38,
   "id": "4fad6b03-1f2c-4e72-bed9-8633eaa48016",
   "metadata": {},
   "outputs": [
    {
     "name": "stdout",
     "output_type": "stream",
     "text": [
      "[[19 22]\n",
      " [43 50]]\n"
     ]
    }
   ],
   "source": [
    "import tensorflow as tf\n",
    "\n",
    "# Define two matrices\n",
    "A = tf.constant([[1, 2], [3, 4]])\n",
    "B = tf.constant([[5, 6], [7, 8]])\n",
    "\n",
    "# Perform matrix multiplication\n",
    "C = tf.matmul(A, B)  # Or simply C = A @ B\n",
    "\n",
    "print(C.numpy())"
   ]
  },
  {
   "cell_type": "markdown",
   "id": "02961e18-23a3-4ea6-9a4d-116785f3e9aa",
   "metadata": {},
   "source": [
    "3. **Element-wise Operations:**\n",
    "Element-wise operations are applied individually to each element of a tensor. TensorFlow provides various functions for element-wise operations such as addition, subtraction, multiplication, division, etc. Here's how you would perform element-wise operations"
   ]
  },
  {
   "cell_type": "code",
   "execution_count": 39,
   "id": "ce5fa144-c1f5-424b-bbac-46eb178837c1",
   "metadata": {},
   "outputs": [
    {
     "name": "stdout",
     "output_type": "stream",
     "text": [
      "[[2 4]\n",
      " [6 8]]\n"
     ]
    }
   ],
   "source": [
    "import tensorflow as tf\n",
    "\n",
    "# Define a matrix\n",
    "A = tf.constant([[1, 2], [3, 4]])\n",
    "\n",
    "# Perform element-wise operations\n",
    "# Example: Element-wise multiplication by scalar\n",
    "scalar = tf.constant(2)\n",
    "B = tf.multiply(A, scalar)  # Or simply B = A * scalar\n",
    "\n",
    "print(B.numpy())"
   ]
  },
  {
   "cell_type": "markdown",
   "id": "75b0df6a-4889-4134-9236-9d4908aed626",
   "metadata": {},
   "source": [
    "You can perform similar operations with other arithmetic operations (tf.add(), tf.subtract(), tf.divide(), etc.) by applying them element-wise."
   ]
  },
  {
   "cell_type": "markdown",
   "id": "11ee2000-edb6-4b6a-b6a1-49f5420fd7c6",
   "metadata": {},
   "source": [
    "# Answer 2(A)"
   ]
  },
  {
   "cell_type": "code",
   "execution_count": 53,
   "id": "ac09c265-a533-45f7-be7e-fed958cde00d",
   "metadata": {},
   "outputs": [
    {
     "name": "stdout",
     "output_type": "stream",
     "text": [
      "Matrix A:\n",
      "[[ 0.8867304   0.99678326]\n",
      " [-1.5115494   1.4831979 ]]\n",
      "\n",
      "Matrix B:\n",
      "[[-0.00714923 -1.1145269   0.35408854]\n",
      " [ 0.37060738  1.339324   -1.1520703 ]\n",
      " [-0.5679107   0.5374781  -0.17416374]]\n"
     ]
    }
   ],
   "source": [
    "import tensorflow as tf\n",
    "\n",
    "# Define the dimensions\n",
    "rows = 2\n",
    "cols = 2\n",
    "\n",
    "# Create matrix A with random normal values\n",
    "A = tf.random.normal(shape=(rows, cols))\n",
    "\n",
    "# Display the values of matrix A\n",
    "print(\"Matrix A:\")\n",
    "print(A.numpy())\n",
    "\n",
    "# Define the dimensions for matrix B\n",
    "rows_B = 3\n",
    "cols_B = 3\n",
    "\n",
    "# Create matrix B with truncated normal values (Gaussian distribution)\n",
    "B = tf.random.truncated_normal(shape=(rows_B, cols_B))\n",
    "\n",
    "# Display the values of matrix B\n",
    "print(\"\\nMatrix B:\")\n",
    "print(B.numpy())\n"
   ]
  },
  {
   "cell_type": "code",
   "execution_count": 54,
   "id": "4a54720a-525c-402f-abaf-6b451f5fdeb2",
   "metadata": {},
   "outputs": [
    {
     "name": "stdout",
     "output_type": "stream",
     "text": [
      "Matrix C:\n",
      "[[2.1910832 2.1475186]\n",
      " [2.1101162 2.0034766]]\n"
     ]
    }
   ],
   "source": [
    "import tensorflow as tf\n",
    "\n",
    "# Define the dimensions\n",
    "rows = 2\n",
    "cols = 2\n",
    "\n",
    "# Define the mean and standard deviation\n",
    "mean = 2\n",
    "stddev = 0.1  # Adjust this value as needed\n",
    "\n",
    "# Create matrix C with normal distribution\n",
    "C = tf.random.normal(shape=(rows, cols), mean=mean, stddev=stddev)\n",
    "\n",
    "# Display the values of matrix C\n",
    "print(\"Matrix C:\")\n",
    "print(C.numpy())"
   ]
  },
  {
   "cell_type": "code",
   "execution_count": 56,
   "id": "a258d00f-b143-4c88-aedd-63ba0c2a255d",
   "metadata": {},
   "outputs": [
    {
     "name": "stdout",
     "output_type": "stream",
     "text": [
      "Matrix D:\n",
      "[[ 6  8  7]\n",
      " [11 13 10]\n",
      " [11 12 13]]\n"
     ]
    }
   ],
   "source": [
    "import tensorflow as tf\n",
    "\n",
    "# Define matrices A and B with different shapes\n",
    "A = tf.constant([[1, 2], [3, 4]])  # Shape: (2, 2)\n",
    "B = tf.constant([[5, 6, 7], [8, 9, 10], [11, 12, 13]])  # Shape: (3, 3)\n",
    "\n",
    "# Pad matrix A with zeros to match the shape of matrix B\n",
    "A_padded = tf.pad(A, paddings=[[0, 1], [0, 1]])  # Add one row and one column of zeros\n",
    "\n",
    "# Perform matrix addition\n",
    "D = tf.add(A_padded, B)\n",
    "\n",
    "# Display the values of matrix D\n",
    "print(\"Matrix D:\")\n",
    "print(D.numpy())"
   ]
  },
  {
   "cell_type": "code",
   "execution_count": 68,
   "id": "8d77b94d-e562-4a55-9647-68f30ed0dc64",
   "metadata": {},
   "outputs": [
    {
     "name": "stdout",
     "output_type": "stream",
     "text": [
      "Matrix E:\n",
      "[[31.5 35.5 39.5]\n",
      " [61.5 69.5 77.5]]\n"
     ]
    }
   ],
   "source": [
    "import tensorflow as tf\n",
    "\n",
    "# Define matrices C and D\n",
    "C = tf.constant([[1.5, 2.5], [3.5, 4.5]])  # Assuming this is the matrix C generated previously\n",
    "D = tf.constant([[6, 7, 8], [9, 10, 11]],dtype=tf.float32)  # Assuming this is the matrix D generated previously\n",
    "\n",
    "# Perform matrix multiplication\n",
    "E = tf.matmul(C, D)\n",
    "\n",
    "# Display the values of matrix E\n",
    "print(\"Matrix E:\")\n",
    "print(E.numpy())"
   ]
  },
  {
   "cell_type": "markdown",
   "id": "10b0f95f-e6f4-4291-a4f5-6e063c1afd46",
   "metadata": {},
   "source": [
    "# Answer 2(B)"
   ]
  },
  {
   "cell_type": "code",
   "execution_count": 79,
   "id": "4198de16-4364-43fb-ae16-5a6d9ed46650",
   "metadata": {},
   "outputs": [
    {
     "name": "stdout",
     "output_type": "stream",
     "text": [
      "[[0.45807433 0.6696968 ]\n",
      " [0.3898722  0.7073389 ]]\n"
     ]
    }
   ],
   "source": [
    "import tensorflow as tf\n",
    "\n",
    "# Define the dimensions of the matrix\n",
    "rows = 2\n",
    "cols = 2\n",
    "\n",
    "# Initialize the matrix with random values using TensorFlow's random_uniform function\n",
    "F = tf.random.uniform(shape=[rows, cols], minval=0, maxval=1)\n",
    "print(F.numpy())"
   ]
  },
  {
   "cell_type": "code",
   "execution_count": 80,
   "id": "1b474821-a476-4d4a-b415-a35bc92ed826",
   "metadata": {},
   "outputs": [
    {
     "name": "stdout",
     "output_type": "stream",
     "text": [
      "[[0.45807433 0.3898722 ]\n",
      " [0.6696968  0.7073389 ]]\n"
     ]
    }
   ],
   "source": [
    "#Calculate the Transpose of F and store into G:\n",
    "G = tf.transpose(F)\n",
    "print(G.numpy())"
   ]
  },
  {
   "cell_type": "code",
   "execution_count": 81,
   "id": "b0c8990c-6726-4da5-a96d-59dc9d634fbb",
   "metadata": {},
   "outputs": [
    {
     "name": "stdout",
     "output_type": "stream",
     "text": [
      "[[1.5810266 1.9536449]\n",
      " [1.4767921 2.028586 ]]\n"
     ]
    }
   ],
   "source": [
    "import tensorflow as tf\n",
    "\n",
    "# Calculate the element-wise exponential of matrix F\n",
    "H = tf.exp(F)\n",
    "print(H.numpy())"
   ]
  },
  {
   "cell_type": "code",
   "execution_count": 82,
   "id": "07d55199-5d02-4b41-9d67-999cb2404c53",
   "metadata": {},
   "outputs": [
    {
     "name": "stdout",
     "output_type": "stream",
     "text": [
      "[[0.45807433 0.6696968  0.45807433 0.3898722 ]\n",
      " [0.3898722  0.7073389  0.6696968  0.7073389 ]]\n"
     ]
    }
   ],
   "source": [
    "# Concatenate matrices F and G horizontally\n",
    "I = tf.concat([F, G], axis=1)\n",
    "print(I.numpy())"
   ]
  },
  {
   "cell_type": "code",
   "execution_count": 83,
   "id": "acf09cd1-bce4-4b51-90e8-0215665c2e1c",
   "metadata": {},
   "outputs": [
    {
     "name": "stdout",
     "output_type": "stream",
     "text": [
      "[[0.45807433 0.6696968 ]\n",
      " [0.3898722  0.7073389 ]\n",
      " [0.45807433 0.3898722 ]\n",
      " [0.6696968  0.7073389 ]]\n"
     ]
    }
   ],
   "source": [
    "# Concatenate matrices F and G vartically\n",
    "J = tf.concat([F, G], axis=0)\n",
    "print(J.numpy())"
   ]
  },
  {
   "cell_type": "code",
   "execution_count": null,
   "id": "ba7aec33-0501-4e2c-bd2a-b5ec3aeab0d6",
   "metadata": {},
   "outputs": [],
   "source": []
  }
 ],
 "metadata": {
  "kernelspec": {
   "display_name": "Python 3 (ipykernel)",
   "language": "python",
   "name": "python3"
  },
  "language_info": {
   "codemirror_mode": {
    "name": "ipython",
    "version": 3
   },
   "file_extension": ".py",
   "mimetype": "text/x-python",
   "name": "python",
   "nbconvert_exporter": "python",
   "pygments_lexer": "ipython3",
   "version": "3.10.8"
  }
 },
 "nbformat": 4,
 "nbformat_minor": 5
}
