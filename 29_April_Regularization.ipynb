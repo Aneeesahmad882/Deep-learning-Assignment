{
 "cells": [
  {
   "cell_type": "markdown",
   "id": "bc934e24-9fc3-41e5-bc04-21b47f606d19",
   "metadata": {},
   "source": [
    "# Answer1\n",
    "Regularization in the context of deep learning refers to a set of techniques aimed at preventing a model from overfitting to the training data. Overfitting occurs when a model learns to memorize the training data instead of generalizing well to new, unseen data. Regularization techniques introduce additional constraints or penalties on the model's parameters during training to discourage complex, overfitted solutions and encourage simpler models that generalize better.\n",
    "\n",
    "Some common regularization techniques in deep learning include:\n",
    "\n",
    "1. **L2 Regularization (Weight Decay)**: This technique adds a penalty term to the loss function proportional to the square of the magnitude of the weights in the network. It encourages smaller weights, effectively preventing any single weight from becoming too large.\n",
    "\n",
    "2. **L1 Regularization**: Similar to L2 regularization, but instead of penalizing the square of the weights, it penalizes the absolute value of the weights. This tends to produce sparse weight vectors, effectively performing feature selection.\n",
    "\n",
    "3. **Dropout**: Dropout randomly drops a proportion of neurons from the network during each training iteration. This prevents units from relying too much on each other and encourages robustness and independence among the neurons.\n",
    "\n",
    "4. **Early Stopping**: This technique involves monitoring the model's performance on a validation set during training and stopping the training process when the performance starts to degrade, indicating that the model is overfitting.\n",
    "\n",
    "5. **Data Augmentation**: By artificially increasing the size of the training dataset through techniques like cropping, rotating, or flipping input data, data augmentation helps expose the model to more variations in the data, reducing overfitting.\n",
    "\n",
    "Regularization is important because it helps prevent models from memorizing noise or idiosyncrasies in the training data, leading to better generalization performance on unseen data. By promoting simpler models and reducing overfitting, regularization techniques improve the model's ability to capture the underlying patterns in the data and make accurate predictions on new, unseen examples."
   ]
  },
  {
   "cell_type": "markdown",
   "id": "5cf08ef0-7660-4ae0-86c4-fbda42be71e1",
   "metadata": {},
   "source": [
    "# Answer2\n",
    "The bias-variance tradeoff is a fundamental concept in machine learning, including deep learning. It refers to the balance between two sources of error that affect the performance of a predictive model: bias and variance.\n",
    "\n",
    "1. **Bias**: Bias measures how closely the average prediction of a model matches the true value it's trying to predict. A high bias means the model is too simplistic and fails to capture the underlying patterns in the data. Models with high bias are typically too simple and may underfit the data.\n",
    "\n",
    "2. **Variance**: Variance measures the variability of the model's predictions. High variance indicates that the model is overly sensitive to the training data and captures noise as if it were true signal. Models with high variance are typically too complex and may overfit the training data.\n",
    "\n",
    "The bias-variance tradeoff arises because reducing one source of error often leads to an increase in the other. For example:\n",
    "\n",
    "- Increasing the complexity of a model (e.g., adding more layers or neurons in a neural network) tends to reduce bias but may increase variance, leading to overfitting.\n",
    "- Conversely, reducing the complexity of a model (e.g., using simpler architectures or fewer features) tends to reduce variance but may increase bias, leading to underfitting.\n",
    "\n",
    "Regularization techniques help address the bias-variance tradeoff by controlling the complexity of the model during training. Here's how regularization helps:\n",
    "\n",
    "1. **Penalizing Complexity**: Regularization techniques such as L2 and L1 regularization add penalty terms to the loss function that penalize large weights or complex models. By penalizing complexity, regularization discourages overly complex models and helps prevent overfitting.\n",
    "\n",
    "2. **Encouraging Simplicity**: Regularization encourages the model to find simpler solutions that generalize well to unseen data. By imposing constraints on the model's parameters, regularization techniques guide the optimization process toward solutions that balance bias and variance effectively.\n",
    "\n",
    "3. **Controlling Model Capacity**: Regularization acts as a form of control over the model's capacity to fit the training data. By tuning the regularization strength, practitioners can adjust the tradeoff between bias and variance to find the optimal balance for a given problem.\n",
    "\n",
    "In summary, regularization helps in addressing the bias-variance tradeoff by promoting simpler models that generalize well to unseen data, thus improving overall model performance."
   ]
  },
  {
   "cell_type": "markdown",
   "id": "b346a451-1f47-4b4e-8bfa-28d830dbf2a2",
   "metadata": {},
   "source": [
    "# Answer3\n",
    "In the context of regularization, =1 and =2 regularization (also known as L1 and L2 regularization, respectively) are two common techniques used to prevent overfitting in machine learning models, including deep learning models.\n",
    "\n",
    "1. **L1 Regularization (=1 Regularization)**:\n",
    "\n",
    "   - **Penalty Calculation**: L1 regularization adds a penalty term to the loss function that is proportional to the absolute values of the model's weights. Mathematically, this penalty term is the sum of the absolute values of the weights (also known as the L1 norm of the weight vector).\n",
    "   \n",
    "   - **Effect on the Model**:\n",
    "     - Encourages sparsity: L1 regularization tends to push many weights to exactly zero, effectively performing feature selection. This means that L1 regularization can result in sparse models where only a subset of features is relevant for making predictions.\n",
    "     - Robustness to outliers: The absolute value function used in L1 regularization is less sensitive to outliers compared to the square function used in L2 regularization.\n",
    "\n",
    "2. **L2 Regularization (=2 Regularization)**:\n",
    "\n",
    "   - **Penalty Calculation**: L2 regularization adds a penalty term to the loss function that is proportional to the square of the model's weights. Mathematically, this penalty term is the sum of the squared values of the weights (also known as the L2 norm of the weight vector).\n",
    "   \n",
    "   - **Effect on the Model**:\n",
    "     - Controls the magnitude of weights: L2 regularization penalizes large weights more heavily than small weights, leading to a preference for smaller weight values overall. This helps prevent individual weights from becoming too large and overfitting the training data.\n",
    "     - Does not typically lead to sparse solutions: Unlike L1 regularization, L2 regularization tends to spread the weight values more evenly, resulting in non-zero weights for all features in most cases.\n",
    "     - Sensitive to outliers: The square function used in L2 regularization amplifies the effect of outliers, potentially leading to less robust models in the presence of outliers.\n",
    "\n",
    "In summary, while both L1 and L2 regularization are effective techniques for preventing overfitting, they have different effects on the model's weights and sparsity. L1 regularization encourages sparsity and is less sensitive to outliers, while L2 regularization controls the magnitude of weights and is more sensitive to outliers. The choice between L1 and L2 regularization depends on the specific characteristics of the dataset and the desired properties of the trained model."
   ]
  },
  {
   "cell_type": "markdown",
   "id": "3ec0d396-2d39-47ec-8e30-35556a6ffc87",
   "metadata": {},
   "source": [
    "# Answer4\n",
    "Regularization plays a crucial role in preventing overfitting and improving the generalization of deep learning models. Overfitting occurs when a model learns to memorize the training data rather than capturing the underlying patterns, leading to poor performance on unseen data. Regularization techniques help address overfitting by imposing constraints on the model's parameters during training. Here's how regularization achieves this:\n",
    "\n",
    "1. **Preventing Overly Complex Models**: Deep learning models have a large number of parameters, which makes them highly flexible and capable of fitting the training data very closely. However, this flexibility can lead to overfitting, where the model captures noise and idiosyncrasies in the training data. Regularization techniques, such as L1 and L2 regularization, penalize overly complex models by adding terms to the loss function that discourage large parameter values. This encourages the model to find simpler solutions that generalize better to unseen data.\n",
    "\n",
    "2. **Encouraging Parameter Sharing and Sparsity**: Regularization techniques like weight decay (L2 regularization) encourage parameter sharing and sparsity in deep learning models. By penalizing the magnitude of the weights, L2 regularization discourages the model from relying too much on any single feature or parameter. This encourages the model to distribute its resources more evenly across different features, leading to more robust and generalizable representations.\n",
    "\n",
    "3. **Promoting Robustness to Noise and Variations**: Deep learning models trained with regularization techniques are more robust to noise and variations in the data. Regularization helps the model focus on the most important features and patterns in the data while ignoring irrelevant or noisy information. This allows the model to generalize better to new, unseen examples, even in the presence of noise or variations in the data.\n",
    "\n",
    "4. **Controlling Model Complexity**: Regularization acts as a form of control over the complexity of deep learning models. By adjusting the strength of regularization, practitioners can control the trade-off between bias and variance, finding an optimal balance that minimizes both training and generalization error. This allows deep learning models to achieve better performance on unseen data by avoiding both underfitting and overfitting.\n",
    "\n",
    "In summary, regularization is essential for preventing overfitting and improving the generalization performance of deep learning models. By encouraging simpler models, promoting parameter sharing and sparsity, and controlling model complexity, regularization techniques enable deep learning models to capture the underlying patterns in the data more effectively and make accurate predictions on new, unseen examples."
   ]
  },
  {
   "cell_type": "markdown",
   "id": "d16942c4-d892-40f5-8bd7-aa42fc87ac35",
   "metadata": {},
   "source": [
    "# Answer5\n",
    "Dropout regularization is a powerful technique used to prevent overfitting in deep learning models, particularly in neural networks. It works by randomly dropping out (i.e., setting to zero) a proportion of neurons in the network during each training iteration. Here's how dropout regularization works and its impact on model training and inference:\n",
    "\n",
    "1. **How Dropout Works**:\n",
    "\n",
    "   - During training: At each training iteration, dropout randomly selects a subset of neurons to be temporarily ignored or \"dropped out\" with a certain probability (typically between 0.2 and 0.5). This means that the output of these neurons is set to zero, and they do not contribute to the forward pass or the computation of gradients during backpropagation.\n",
    "   \n",
    "   - During inference: During inference (i.e., when making predictions on new data), dropout is not applied. Instead, the full network is used for prediction. However, to ensure that the expected output of each neuron remains the same during inference as during training, the weights of the neurons that were dropped out during training are scaled by the dropout probability. This scaling ensures that the overall output of the network remains consistent.\n",
    "\n",
    "2. **Impact on Model Training**:\n",
    "\n",
    "   - **Regularization**: Dropout acts as a form of regularization by adding noise to the network during training. By randomly dropping out neurons, dropout prevents the network from relying too heavily on any individual neuron or feature, thus encouraging the network to learn more robust and generalizable representations.\n",
    "   \n",
    "   - **Reducing Co-Adaptation**: Dropout discourages co-adaptation among neurons, where certain neurons become overly dependent on the presence of other specific neurons to produce useful features. By randomly dropping out neurons, dropout forces the network to learn more independent and robust features, reducing co-adaptation and overfitting.\n",
    "\n",
    "3. **Impact on Model Inference**:\n",
    "\n",
    "   - **No Dropout**: During inference, dropout is not applied, and the full network is used for prediction. This means that the model does not suffer from the stochasticity introduced by dropout during training, leading to more stable predictions.\n",
    "   \n",
    "   - **Scaling Weights**: To compensate for the absence of dropout during inference, the weights of the neurons that were dropped out during training are scaled by the dropout probability. This ensures that the expected output of each neuron remains the same during inference as during training, maintaining consistency between training and inference.\n",
    "\n",
    "In summary, dropout regularization is an effective technique for reducing overfitting in deep learning models by randomly dropping out neurons during training. By adding noise to the network and encouraging robustness and independence among neurons, dropout helps prevent co-adaptation and encourages the learning of more generalizable features. During inference, dropout is not applied, and the full network is used for prediction, with the weights of dropped-out neurons scaled to maintain consistency. Overall, dropout regularization improves the generalization performance of deep learning models by promoting robustness and preventing overfitting."
   ]
  },
  {
   "cell_type": "markdown",
   "id": "9cf92002-4823-4de9-b1e6-ee1292fbd2a0",
   "metadata": {},
   "source": [
    "# Answer6\n",
    "Early stopping is a form of regularization used to prevent overfitting during the training process of machine learning models, including deep learning models. Instead of directly modifying the model architecture or parameters like other regularization techniques, early stopping monitors the model's performance on a separate validation dataset during training and stops the training process when the performance starts to degrade. Here's how early stopping works and how it helps prevent overfitting:\n",
    "\n",
    "1. **Training and Validation Data**:\n",
    "   \n",
    "   - The training data is used to update the model's parameters during the training process.\n",
    "   \n",
    "   - The validation data is a separate dataset that is not used for training but is used to evaluate the model's performance at regular intervals during training.\n",
    "\n",
    "2. **Monitoring Performance**:\n",
    "   \n",
    "   - During training, the model's performance is evaluated on the validation dataset at regular intervals, typically after each epoch (one pass through the entire training dataset).\n",
    "   \n",
    "   - The performance metric used for evaluation could be accuracy, loss, or any other relevant metric depending on the problem being solved.\n",
    "\n",
    "3. **Early Stopping Criterion**:\n",
    "   \n",
    "   - A stopping criterion is defined based on the model's performance on the validation dataset. This criterion could be a decrease in performance, stagnation of performance, or an increase in a separate metric like validation loss.\n",
    "   \n",
    "   - When the performance on the validation dataset starts to degrade or does not improve significantly over a certain number of epochs, early stopping is triggered.\n",
    "\n",
    "4. **Stopping Training**:\n",
    "   \n",
    "   - Once the early stopping criterion is met, the training process is halted, and the current model parameters are retained as the final model.\n",
    "   \n",
    "   - By stopping the training process early, early stopping prevents the model from continuing to train beyond the point where it starts to overfit the training data.\n",
    "\n",
    "5. **Benefits of Early Stopping**:\n",
    "\n",
    "   - **Prevents Overfitting**: Early stopping prevents overfitting by halting the training process before the model has a chance to memorize noise or idiosyncrasies in the training data. By monitoring the model's performance on a separate validation dataset, early stopping ensures that the model generalizes well to unseen data.\n",
    "   \n",
    "   - **Saves Training Time and Resources**: Early stopping helps save computational resources and training time by avoiding unnecessary training iterations beyond the point of diminishing returns. Instead of training for a fixed number of epochs, early stopping allows the model to stop as soon as it achieves satisfactory performance on the validation dataset.\n",
    "   \n",
    "   - **Improves Generalization**: By stopping the training process at the point of optimal performance on the validation dataset, early stopping helps improve the generalization performance of the model, leading to better performance on unseen data.\n",
    "\n",
    "In summary, early stopping is an effective form of regularization that helps prevent overfitting during the training process by monitoring the model's performance on a separate validation dataset and stopping the training process when the performance starts to degrade. By halting training early, early stopping ensures that the model generalizes well to unseen data and saves computational resources and training time."
   ]
  },
  {
   "cell_type": "markdown",
   "id": "b7d2a5d4-0f5f-4fd9-927e-7fa028ff08b4",
   "metadata": {},
   "source": [
    "# Answer7\n",
    "Batch Normalization (BN) is a technique used in deep learning to improve the training of neural networks by normalizing the inputs of each layer. It works by normalizing the inputs to a layer to have a mean close to zero and a standard deviation close to one. Batch Normalization is typically applied before the activation function of each layer. Here's how it works and its role as a form of regularization:\n",
    "\n",
    "1. **How Batch Normalization Works**:\n",
    "\n",
    "   - **Normalization**: For each mini-batch of data during training, Batch Normalization computes the mean and standard deviation of the activations across the batch. It then normalizes the activations by subtracting the batch mean and dividing by the batch standard deviation. This ensures that the inputs to each layer have similar distributions and are centered around zero with a standard deviation of one.\n",
    "   \n",
    "   - **Scaling and Shifting**: After normalization, Batch Normalization applies learnable scale and shift parameters to the normalized activations. These parameters allow the model to learn the optimal scaling and shifting of the activations, providing the network with the flexibility to learn more complex relationships.\n",
    "\n",
    "2. **Role as a Form of Regularization**:\n",
    "\n",
    "   - **Smoothing the Loss Landscape**: Batch Normalization smooths the loss landscape during training by reducing internal covariate shift. Internal covariate shift refers to the change in the distribution of activations at each layer as the parameters of the network are updated during training. By normalizing the inputs to each layer, Batch Normalization reduces the magnitude of these shifts, making it easier for the model to learn the optimal parameters and converge faster.\n",
    "\n",
    "   - **Reducing Sensitivity to Initialization**: Batch Normalization reduces the sensitivity of deep neural networks to the choice of initialization parameters. By normalizing the inputs, Batch Normalization ensures that the activations at each layer are within a similar range, making it less likely for gradients to vanish or explode during training. This allows for more stable and reliable training of deep networks.\n",
    "\n",
    "   - **Implicit Regularization**: Batch Normalization acts as a form of implicit regularization by adding noise to the activations during training. The normalization process introduces noise by randomly sampling mini-batches of data, which helps prevent the model from memorizing noise or idiosyncrasies in the training data. This encourages the model to learn more robust and generalizable representations, ultimately improving its ability to generalize to unseen data.\n",
    "\n",
    "In summary, Batch Normalization is a powerful technique used in deep learning to improve training stability and accelerate convergence. By normalizing the inputs to each layer and smoothing the loss landscape, Batch Normalization helps prevent overfitting by reducing internal covariate shift and making the optimization process more stable. Additionally, Batch Normalization acts as a form of implicit regularization by adding noise to the activations during training, promoting the learning of more robust and generalizable representations."
   ]
  },
  {
   "cell_type": "markdown",
   "id": "23f691eb-d873-4d35-838c-e0b9c60e6a0c",
   "metadata": {},
   "source": [
    "# Answer8"
   ]
  },
  {
   "cell_type": "code",
   "execution_count": 1,
   "id": "af6dfeb2-3479-4721-ad74-6f3b67c8ed73",
   "metadata": {},
   "outputs": [
    {
     "name": "stdout",
     "output_type": "stream",
     "text": [
      "Collecting tensorflow\n",
      "  Downloading tensorflow-2.16.1-cp310-cp310-manylinux_2_17_x86_64.manylinux2014_x86_64.whl (589.8 MB)\n",
      "\u001b[2K     \u001b[90m━━━━━━━━━━━━━━━━━━━━━━━━━━━━━━━━━━━━━━━\u001b[0m \u001b[32m589.8/589.8 MB\u001b[0m \u001b[31m2.7 MB/s\u001b[0m eta \u001b[36m0:00:00\u001b[0m00:01\u001b[0m00:01\u001b[0m\n",
      "\u001b[?25hRequirement already satisfied: packaging in /opt/conda/lib/python3.10/site-packages (from tensorflow) (22.0)\n",
      "Collecting wrapt>=1.11.0\n",
      "  Downloading wrapt-1.16.0-cp310-cp310-manylinux_2_5_x86_64.manylinux1_x86_64.manylinux_2_17_x86_64.manylinux2014_x86_64.whl (80 kB)\n",
      "\u001b[2K     \u001b[90m━━━━━━━━━━━━━━━━━━━━━━━━━━━━━━━━━━━━━━━━\u001b[0m \u001b[32m80.3/80.3 kB\u001b[0m \u001b[31m15.3 MB/s\u001b[0m eta \u001b[36m0:00:00\u001b[0m\n",
      "\u001b[?25hCollecting tensorflow-io-gcs-filesystem>=0.23.1\n",
      "  Downloading tensorflow_io_gcs_filesystem-0.36.0-cp310-cp310-manylinux_2_17_x86_64.manylinux2014_x86_64.whl (5.1 MB)\n",
      "\u001b[2K     \u001b[90m━━━━━━━━━━━━━━━━━━━━━━━━━━━━━━━━━━━━━━━━\u001b[0m \u001b[32m5.1/5.1 MB\u001b[0m \u001b[31m74.4 MB/s\u001b[0m eta \u001b[36m0:00:00\u001b[0mta \u001b[36m0:00:01\u001b[0m\n",
      "\u001b[?25hRequirement already satisfied: typing-extensions>=3.6.6 in /opt/conda/lib/python3.10/site-packages (from tensorflow) (4.4.0)\n",
      "Collecting h5py>=3.10.0\n",
      "  Downloading h5py-3.11.0-cp310-cp310-manylinux_2_17_x86_64.manylinux2014_x86_64.whl (5.3 MB)\n",
      "\u001b[2K     \u001b[90m━━━━━━━━━━━━━━━━━━━━━━━━━━━━━━━━━━━━━━━━\u001b[0m \u001b[32m5.3/5.3 MB\u001b[0m \u001b[31m74.5 MB/s\u001b[0m eta \u001b[36m0:00:00\u001b[0m:00:01\u001b[0m00:01\u001b[0m\n",
      "\u001b[?25hCollecting termcolor>=1.1.0\n",
      "  Downloading termcolor-2.4.0-py3-none-any.whl (7.7 kB)\n",
      "Requirement already satisfied: protobuf!=4.21.0,!=4.21.1,!=4.21.2,!=4.21.3,!=4.21.4,!=4.21.5,<5.0.0dev,>=3.20.3 in /opt/conda/lib/python3.10/site-packages (from tensorflow) (4.21.11)\n",
      "Collecting absl-py>=1.0.0\n",
      "  Downloading absl_py-2.1.0-py3-none-any.whl (133 kB)\n",
      "\u001b[2K     \u001b[90m━━━━━━━━━━━━━━━━━━━━━━━━━━━━━━━━━━━━━━\u001b[0m \u001b[32m133.7/133.7 kB\u001b[0m \u001b[31m22.3 MB/s\u001b[0m eta \u001b[36m0:00:00\u001b[0m\n",
      "\u001b[?25hCollecting ml-dtypes~=0.3.1\n",
      "  Downloading ml_dtypes-0.3.2-cp310-cp310-manylinux_2_17_x86_64.manylinux2014_x86_64.whl (2.2 MB)\n",
      "\u001b[2K     \u001b[90m━━━━━━━━━━━━━━━━━━━━━━━━━━━━━━━━━━━━━━━━\u001b[0m \u001b[32m2.2/2.2 MB\u001b[0m \u001b[31m74.7 MB/s\u001b[0m eta \u001b[36m0:00:00\u001b[0m\n",
      "\u001b[?25hCollecting grpcio<2.0,>=1.24.3\n",
      "  Downloading grpcio-1.62.2-cp310-cp310-manylinux_2_17_x86_64.manylinux2014_x86_64.whl (5.5 MB)\n",
      "\u001b[2K     \u001b[90m━━━━━━━━━━━━━━━━━━━━━━━━━━━━━━━━━━━━━━━━\u001b[0m \u001b[32m5.5/5.5 MB\u001b[0m \u001b[31m75.1 MB/s\u001b[0m eta \u001b[36m0:00:00\u001b[0m:00:01\u001b[0m00:01\u001b[0m\n",
      "\u001b[?25hCollecting opt-einsum>=2.3.2\n",
      "  Downloading opt_einsum-3.3.0-py3-none-any.whl (65 kB)\n",
      "\u001b[2K     \u001b[90m━━━━━━━━━━━━━━━━━━━━━━━━━━━━━━━━━━━━━━━━\u001b[0m \u001b[32m65.5/65.5 kB\u001b[0m \u001b[31m12.9 MB/s\u001b[0m eta \u001b[36m0:00:00\u001b[0m\n",
      "\u001b[?25hCollecting libclang>=13.0.0\n",
      "  Downloading libclang-18.1.1-py2.py3-none-manylinux2010_x86_64.whl (24.5 MB)\n",
      "\u001b[2K     \u001b[90m━━━━━━━━━━━━━━━━━━━━━━━━━━━━━━━━━━━━━━━━\u001b[0m \u001b[32m24.5/24.5 MB\u001b[0m \u001b[31m43.7 MB/s\u001b[0m eta \u001b[36m0:00:00\u001b[0m00:01\u001b[0m00:01\u001b[0m\n",
      "\u001b[?25hRequirement already satisfied: numpy<2.0.0,>=1.23.5 in /opt/conda/lib/python3.10/site-packages (from tensorflow) (1.23.5)\n",
      "Collecting keras>=3.0.0\n",
      "  Downloading keras-3.3.3-py3-none-any.whl (1.1 MB)\n",
      "\u001b[2K     \u001b[90m━━━━━━━━━━━━━━━━━━━━━━━━━━━━━━━━━━━━━━━━\u001b[0m \u001b[32m1.1/1.1 MB\u001b[0m \u001b[31m63.6 MB/s\u001b[0m eta \u001b[36m0:00:00\u001b[0m\n",
      "\u001b[?25hCollecting tensorboard<2.17,>=2.16\n",
      "  Downloading tensorboard-2.16.2-py3-none-any.whl (5.5 MB)\n",
      "\u001b[2K     \u001b[90m━━━━━━━━━━━━━━━━━━━━━━━━━━━━━━━━━━━━━━━━\u001b[0m \u001b[32m5.5/5.5 MB\u001b[0m \u001b[31m70.2 MB/s\u001b[0m eta \u001b[36m0:00:00\u001b[0m00:01\u001b[0m00:01\u001b[0m\n",
      "\u001b[?25hCollecting astunparse>=1.6.0\n",
      "  Downloading astunparse-1.6.3-py2.py3-none-any.whl (12 kB)\n",
      "Collecting gast!=0.5.0,!=0.5.1,!=0.5.2,>=0.2.1\n",
      "  Downloading gast-0.5.4-py3-none-any.whl (19 kB)\n",
      "Collecting google-pasta>=0.1.1\n",
      "  Downloading google_pasta-0.2.0-py3-none-any.whl (57 kB)\n",
      "\u001b[2K     \u001b[90m━━━━━━━━━━━━━━━━━━━━━━━━━━━━━━━━━━━━━━━━\u001b[0m \u001b[32m57.5/57.5 kB\u001b[0m \u001b[31m8.1 MB/s\u001b[0m eta \u001b[36m0:00:00\u001b[0m\n",
      "\u001b[?25hRequirement already satisfied: setuptools in /opt/conda/lib/python3.10/site-packages (from tensorflow) (65.5.1)\n",
      "Collecting flatbuffers>=23.5.26\n",
      "  Downloading flatbuffers-24.3.25-py2.py3-none-any.whl (26 kB)\n",
      "Requirement already satisfied: six>=1.12.0 in /opt/conda/lib/python3.10/site-packages (from tensorflow) (1.16.0)\n",
      "Requirement already satisfied: requests<3,>=2.21.0 in /opt/conda/lib/python3.10/site-packages (from tensorflow) (2.28.1)\n",
      "Requirement already satisfied: wheel<1.0,>=0.23.0 in /opt/conda/lib/python3.10/site-packages (from astunparse>=1.6.0->tensorflow) (0.38.4)\n",
      "Collecting optree\n",
      "  Downloading optree-0.11.0-cp310-cp310-manylinux_2_17_x86_64.manylinux2014_x86_64.whl (311 kB)\n",
      "\u001b[2K     \u001b[90m━━━━━━━━━━━━━━━━━━━━━━━━━━━━━━━━━━━━━━\u001b[0m \u001b[32m311.2/311.2 kB\u001b[0m \u001b[31m30.8 MB/s\u001b[0m eta \u001b[36m0:00:00\u001b[0m\n",
      "\u001b[?25hCollecting namex\n",
      "  Downloading namex-0.0.8-py3-none-any.whl (5.8 kB)\n",
      "Collecting rich\n",
      "  Downloading rich-13.7.1-py3-none-any.whl (240 kB)\n",
      "\u001b[2K     \u001b[90m━━━━━━━━━━━━━━━━━━━━━━━━━━━━━━━━━━━━━━\u001b[0m \u001b[32m240.7/240.7 kB\u001b[0m \u001b[31m29.1 MB/s\u001b[0m eta \u001b[36m0:00:00\u001b[0m\n",
      "\u001b[?25hRequirement already satisfied: urllib3<1.27,>=1.21.1 in /opt/conda/lib/python3.10/site-packages (from requests<3,>=2.21.0->tensorflow) (1.26.13)\n",
      "Requirement already satisfied: certifi>=2017.4.17 in /opt/conda/lib/python3.10/site-packages (from requests<3,>=2.21.0->tensorflow) (2022.12.7)\n",
      "Requirement already satisfied: charset-normalizer<3,>=2 in /opt/conda/lib/python3.10/site-packages (from requests<3,>=2.21.0->tensorflow) (2.1.1)\n",
      "Requirement already satisfied: idna<4,>=2.5 in /opt/conda/lib/python3.10/site-packages (from requests<3,>=2.21.0->tensorflow) (3.4)\n",
      "Collecting tensorboard-data-server<0.8.0,>=0.7.0\n",
      "  Downloading tensorboard_data_server-0.7.2-py3-none-manylinux_2_31_x86_64.whl (6.6 MB)\n",
      "\u001b[2K     \u001b[90m━━━━━━━━━━━━━━━━━━━━━━━━━━━━━━━━━━━━━━━━\u001b[0m \u001b[32m6.6/6.6 MB\u001b[0m \u001b[31m75.4 MB/s\u001b[0m eta \u001b[36m0:00:00\u001b[0m:00:01\u001b[0m00:01\u001b[0m\n",
      "\u001b[?25hCollecting markdown>=2.6.8\n",
      "  Downloading Markdown-3.6-py3-none-any.whl (105 kB)\n",
      "\u001b[2K     \u001b[90m━━━━━━━━━━━━━━━━━━━━━━━━━━━━━━━━━━━━━━\u001b[0m \u001b[32m105.4/105.4 kB\u001b[0m \u001b[31m14.8 MB/s\u001b[0m eta \u001b[36m0:00:00\u001b[0m\n",
      "\u001b[?25hCollecting werkzeug>=1.0.1\n",
      "  Downloading werkzeug-3.0.2-py3-none-any.whl (226 kB)\n",
      "\u001b[2K     \u001b[90m━━━━━━━━━━━━━━━━━━━━━━━━━━━━━━━━━━━━━━\u001b[0m \u001b[32m226.8/226.8 kB\u001b[0m \u001b[31m30.1 MB/s\u001b[0m eta \u001b[36m0:00:00\u001b[0m\n",
      "\u001b[?25hRequirement already satisfied: MarkupSafe>=2.1.1 in /opt/conda/lib/python3.10/site-packages (from werkzeug>=1.0.1->tensorboard<2.17,>=2.16->tensorflow) (2.1.1)\n",
      "Collecting markdown-it-py>=2.2.0\n",
      "  Downloading markdown_it_py-3.0.0-py3-none-any.whl (87 kB)\n",
      "\u001b[2K     \u001b[90m━━━━━━━━━━━━━━━━━━━━━━━━━━━━━━━━━━━━━━━━\u001b[0m \u001b[32m87.5/87.5 kB\u001b[0m \u001b[31m14.3 MB/s\u001b[0m eta \u001b[36m0:00:00\u001b[0m\n",
      "\u001b[?25hRequirement already satisfied: pygments<3.0.0,>=2.13.0 in /opt/conda/lib/python3.10/site-packages (from rich->keras>=3.0.0->tensorflow) (2.13.0)\n",
      "Collecting mdurl~=0.1\n",
      "  Downloading mdurl-0.1.2-py3-none-any.whl (10.0 kB)\n",
      "Installing collected packages: namex, libclang, flatbuffers, wrapt, werkzeug, termcolor, tensorflow-io-gcs-filesystem, tensorboard-data-server, optree, opt-einsum, ml-dtypes, mdurl, markdown, h5py, grpcio, google-pasta, gast, astunparse, absl-py, tensorboard, markdown-it-py, rich, keras, tensorflow\n",
      "  Attempting uninstall: h5py\n",
      "    Found existing installation: h5py 3.7.0\n",
      "    Uninstalling h5py-3.7.0:\n",
      "      Successfully uninstalled h5py-3.7.0\n",
      "Successfully installed absl-py-2.1.0 astunparse-1.6.3 flatbuffers-24.3.25 gast-0.5.4 google-pasta-0.2.0 grpcio-1.62.2 h5py-3.11.0 keras-3.3.3 libclang-18.1.1 markdown-3.6 markdown-it-py-3.0.0 mdurl-0.1.2 ml-dtypes-0.3.2 namex-0.0.8 opt-einsum-3.3.0 optree-0.11.0 rich-13.7.1 tensorboard-2.16.2 tensorboard-data-server-0.7.2 tensorflow-2.16.1 tensorflow-io-gcs-filesystem-0.36.0 termcolor-2.4.0 werkzeug-3.0.2 wrapt-1.16.0\n",
      "Requirement already satisfied: keras in /opt/conda/lib/python3.10/site-packages (3.3.3)\n",
      "Requirement already satisfied: optree in /opt/conda/lib/python3.10/site-packages (from keras) (0.11.0)\n",
      "Requirement already satisfied: absl-py in /opt/conda/lib/python3.10/site-packages (from keras) (2.1.0)\n",
      "Requirement already satisfied: ml-dtypes in /opt/conda/lib/python3.10/site-packages (from keras) (0.3.2)\n",
      "Requirement already satisfied: h5py in /opt/conda/lib/python3.10/site-packages (from keras) (3.11.0)\n",
      "Requirement already satisfied: numpy in /opt/conda/lib/python3.10/site-packages (from keras) (1.23.5)\n",
      "Requirement already satisfied: rich in /opt/conda/lib/python3.10/site-packages (from keras) (13.7.1)\n",
      "Requirement already satisfied: namex in /opt/conda/lib/python3.10/site-packages (from keras) (0.0.8)\n",
      "Requirement already satisfied: typing-extensions>=4.0.0 in /opt/conda/lib/python3.10/site-packages (from optree->keras) (4.4.0)\n",
      "Requirement already satisfied: pygments<3.0.0,>=2.13.0 in /opt/conda/lib/python3.10/site-packages (from rich->keras) (2.13.0)\n",
      "Requirement already satisfied: markdown-it-py>=2.2.0 in /opt/conda/lib/python3.10/site-packages (from rich->keras) (3.0.0)\n",
      "Requirement already satisfied: mdurl~=0.1 in /opt/conda/lib/python3.10/site-packages (from markdown-it-py>=2.2.0->rich->keras) (0.1.2)\n"
     ]
    }
   ],
   "source": [
    "!pip install tensorflow\n",
    "!pip install keras"
   ]
  },
  {
   "cell_type": "code",
   "execution_count": 2,
   "id": "cd034c9f-3dfc-4ae6-a74f-3d9f9738df53",
   "metadata": {},
   "outputs": [],
   "source": [
    "import numpy as np\n",
    "import tensorflow as tf\n",
    "from tensorflow.keras import layers,models,optimizers\n",
    "from tensorflow.keras.datasets import mnist\n",
    "from tensorflow.keras.models import Sequential\n",
    "from tensorflow.keras.layers import Dense,Dropout,Flatten\n",
    "from tensorflow.keras.optimizers import Adam\n",
    "import warnings\n",
    "warnings.filterwarnings('ignore')"
   ]
  },
  {
   "cell_type": "code",
   "execution_count": 3,
   "id": "37695017-b011-46b9-bc8d-116312e674d4",
   "metadata": {},
   "outputs": [],
   "source": [
    "(X_train_full,y_train_full),(X_test,y_test) = mnist.load_data()"
   ]
  },
  {
   "cell_type": "code",
   "execution_count": 4,
   "id": "97afae10-9646-4262-bdf0-dbb6786a8bd0",
   "metadata": {},
   "outputs": [],
   "source": [
    "X_valid,X_train = X_train_full[:5000]/255,X_train_full[5000:]/255\n",
    "y_valid,y_train = y_train_full[:5000],y_train_full[5000:]\n",
    "VALIDATION_SET = (X_valid,y_valid)"
   ]
  },
  {
   "cell_type": "code",
   "execution_count": 5,
   "id": "014cb2f5-0689-4d2b-801a-00f7b2693735",
   "metadata": {},
   "outputs": [],
   "source": [
    "#create model without Dropout:\n",
    "model = models.Sequential([\n",
    "    layers.Flatten(input_shape=(28,28)),\n",
    "    layers.Dense(128,activation='relu'),\n",
    "    layers.Dense(10,activation='softmax')\n",
    "])"
   ]
  },
  {
   "cell_type": "code",
   "execution_count": 6,
   "id": "17d12c95-a7de-4ae8-aca5-e94bda9b5ee2",
   "metadata": {},
   "outputs": [],
   "source": [
    "#Compile and train:\n",
    "model.compile(loss = 'sparse_categorical_crossentropy',\n",
    "              optimizer = Adam(),\n",
    "              metrics = ['accuracy']\n",
    "             )"
   ]
  },
  {
   "cell_type": "code",
   "execution_count": 7,
   "id": "b2d530b9-bd5c-43a7-a4ce-555facddabae",
   "metadata": {},
   "outputs": [
    {
     "name": "stdout",
     "output_type": "stream",
     "text": [
      "Epoch 1/10\n",
      "1719/1719 - 5s - 3ms/step - accuracy: 0.9219 - loss: 0.2718 - val_accuracy: 0.9608 - val_loss: 0.1386\n",
      "Epoch 2/10\n",
      "1719/1719 - 4s - 3ms/step - accuracy: 0.9647 - loss: 0.1192 - val_accuracy: 0.9694 - val_loss: 0.1007\n",
      "Epoch 3/10\n",
      "1719/1719 - 5s - 3ms/step - accuracy: 0.9745 - loss: 0.0824 - val_accuracy: 0.9756 - val_loss: 0.0850\n",
      "Epoch 4/10\n",
      "1719/1719 - 4s - 3ms/step - accuracy: 0.9814 - loss: 0.0615 - val_accuracy: 0.9768 - val_loss: 0.0784\n",
      "Epoch 5/10\n",
      "1719/1719 - 4s - 3ms/step - accuracy: 0.9859 - loss: 0.0459 - val_accuracy: 0.9780 - val_loss: 0.0724\n",
      "Epoch 6/10\n",
      "1719/1719 - 4s - 3ms/step - accuracy: 0.9885 - loss: 0.0378 - val_accuracy: 0.9752 - val_loss: 0.0857\n",
      "Epoch 7/10\n",
      "1719/1719 - 4s - 3ms/step - accuracy: 0.9910 - loss: 0.0292 - val_accuracy: 0.9762 - val_loss: 0.0773\n",
      "Epoch 8/10\n",
      "1719/1719 - 4s - 3ms/step - accuracy: 0.9926 - loss: 0.0245 - val_accuracy: 0.9802 - val_loss: 0.0753\n",
      "Epoch 9/10\n",
      "1719/1719 - 4s - 3ms/step - accuracy: 0.9934 - loss: 0.0203 - val_accuracy: 0.9770 - val_loss: 0.0838\n",
      "Epoch 10/10\n",
      "1719/1719 - 4s - 3ms/step - accuracy: 0.9949 - loss: 0.0169 - val_accuracy: 0.9758 - val_loss: 0.0789\n"
     ]
    }
   ],
   "source": [
    "history = model.fit(X_train,y_train,epochs=10,validation_data = VALIDATION_SET,batch_size=32,verbose=2)"
   ]
  },
  {
   "cell_type": "code",
   "execution_count": 17,
   "id": "78ecc05c-80e2-43d6-b0f3-52b9c1315974",
   "metadata": {},
   "outputs": [
    {
     "name": "stdout",
     "output_type": "stream",
     "text": [
      "Test accuracy without Dropout: 0.9763000011444092\n"
     ]
    }
   ],
   "source": [
    "test_loss, test_acc = model.evaluate(X_test, y_test, verbose=0)\n",
    "print(f'Test accuracy without Dropout: {test_acc}')"
   ]
  },
  {
   "cell_type": "code",
   "execution_count": 15,
   "id": "1be95c5c-3b70-456d-aff2-9753cff9d025",
   "metadata": {},
   "outputs": [],
   "source": [
    "import pandas as pd\n",
    "history_df = pd.DataFrame(history.history)"
   ]
  },
  {
   "cell_type": "code",
   "execution_count": 16,
   "id": "bb31e7d7-b75f-4068-be73-3d50e9b2e904",
   "metadata": {},
   "outputs": [
    {
     "data": {
      "text/plain": [
       "<AxesSubplot: >"
      ]
     },
     "execution_count": 16,
     "metadata": {},
     "output_type": "execute_result"
    },
    {
     "data": {
      "image/png": "[encoded data removed]",
      "text/plain": [
       "<Figure size 640x480 with 1 Axes>"
      ]
     },
     "metadata": {},
     "output_type": "display_data"
    }
   ],
   "source": [
    "history_df.plot()"
   ]
  },
  {
   "cell_type": "code",
   "execution_count": 24,
   "id": "7d675ac2-00e5-49ab-a3b1-9578be5beda8",
   "metadata": {},
   "outputs": [],
   "source": [
    "# creat a model with Dropout:\n",
    "model_with_dropout = models.Sequential([\n",
    "    layers.Flatten(input_shape=(28,28)),\n",
    "    layers.Dropout(0.2),\n",
    "    layers.Dense(128,activation='relu'),\n",
    "    layers.Dropout(0.2),\n",
    "    layers.Dense(10,activation='softmax')\n",
    "])"
   ]
  },
  {
   "cell_type": "code",
   "execution_count": 25,
   "id": "2b7fa802-5390-4e75-b36a-68e32c6462fc",
   "metadata": {},
   "outputs": [],
   "source": [
    "#compile and train:\n",
    "model_with_dropout.compile(loss= 'sparse_categorical_crossentropy',\n",
    "                           optimizer = Adam(),\n",
    "                           metrics = ['accuracy']\n",
    "                          )"
   ]
  },
  {
   "cell_type": "code",
   "execution_count": 26,
   "id": "3126a4ef-64f2-48e5-b230-27247c4dfaec",
   "metadata": {},
   "outputs": [
    {
     "name": "stdout",
     "output_type": "stream",
     "text": [
      "Epoch 1/10\n",
      "1719/1719 - 6s - 4ms/step - accuracy: 0.8945 - loss: 0.3551 - val_accuracy: 0.9564 - val_loss: 0.1551\n",
      "Epoch 2/10\n",
      "1719/1719 - 5s - 3ms/step - accuracy: 0.9450 - loss: 0.1859 - val_accuracy: 0.9684 - val_loss: 0.1091\n",
      "Epoch 3/10\n",
      "1719/1719 - 5s - 3ms/step - accuracy: 0.9561 - loss: 0.1438 - val_accuracy: 0.9740 - val_loss: 0.0903\n",
      "Epoch 4/10\n",
      "1719/1719 - 5s - 3ms/step - accuracy: 0.9599 - loss: 0.1284 - val_accuracy: 0.9772 - val_loss: 0.0800\n",
      "Epoch 5/10\n",
      "1719/1719 - 5s - 3ms/step - accuracy: 0.9646 - loss: 0.1094 - val_accuracy: 0.9786 - val_loss: 0.0753\n",
      "Epoch 6/10\n",
      "1719/1719 - 5s - 3ms/step - accuracy: 0.9690 - loss: 0.0995 - val_accuracy: 0.9816 - val_loss: 0.0690\n",
      "Epoch 7/10\n",
      "1719/1719 - 5s - 3ms/step - accuracy: 0.9694 - loss: 0.0952 - val_accuracy: 0.9812 - val_loss: 0.0642\n",
      "Epoch 8/10\n",
      "1719/1719 - 5s - 3ms/step - accuracy: 0.9724 - loss: 0.0870 - val_accuracy: 0.9790 - val_loss: 0.0718\n",
      "Epoch 9/10\n",
      "1719/1719 - 5s - 3ms/step - accuracy: 0.9719 - loss: 0.0845 - val_accuracy: 0.9798 - val_loss: 0.0658\n",
      "Epoch 10/10\n",
      "1719/1719 - 5s - 3ms/step - accuracy: 0.9733 - loss: 0.0815 - val_accuracy: 0.9818 - val_loss: 0.0638\n"
     ]
    }
   ],
   "source": [
    "history_Dropout = model_with_dropout.fit(X_train,y_train,epochs=10,validation_data = VALIDATION_SET,batch_size=32,verbose=2)"
   ]
  },
  {
   "cell_type": "code",
   "execution_count": 27,
   "id": "0e916e8c-5ec1-4a4d-acbd-5d6993df1b84",
   "metadata": {},
   "outputs": [
    {
     "name": "stdout",
     "output_type": "stream",
     "text": [
      "Test accuracy with Dropout: 0.9789000153541565\n"
     ]
    }
   ],
   "source": [
    "test_loss, test_acc = model_with_dropout.evaluate(X_test, y_test, verbose=0)\n",
    "print(f'Test accuracy with Dropout: {test_acc}')"
   ]
  },
  {
   "cell_type": "code",
   "execution_count": 29,
   "id": "dc42b6e5-8113-4462-8a2c-85fdf05ed5ba",
   "metadata": {},
   "outputs": [],
   "source": [
    "import pandas as pd\n",
    "history_Dropout_df = pd.DataFrame(history_Dropout.history)"
   ]
  },
  {
   "cell_type": "code",
   "execution_count": 30,
   "id": "5d8d1a91-510d-4cfd-aa81-95f18a74d835",
   "metadata": {},
   "outputs": [
    {
     "data": {
      "text/plain": [
       "<AxesSubplot: >"
      ]
     },
     "execution_count": 30,
     "metadata": {},
     "output_type": "execute_result"
    },
    {
     "data": {
      "image/png": "[encoded data removed]",
      "text/plain": [
       "<Figure size 640x480 with 1 Axes>"
      ]
     },
     "metadata": {},
     "output_type": "display_data"
    }
   ],
   "source": [
    "history_Dropout_df.plot()"
   ]
  },
  {
   "cell_type": "markdown",
   "id": "55a2c87f-81d1-4fec-b283-97a5ad93bb41",
   "metadata": {},
   "source": [
    "# Answer9\n",
    "When choosing the appropriate regularization technique for a given deep learning task, there are several considerations and tradeoffs to take into account. Here are some key factors to consider:\n",
    "\n",
    "1. **Model Complexity**: Consider the complexity of your model architecture and the size of the dataset. For complex models with a large number of parameters, techniques like Dropout, L1/L2 regularization, or a combination of them may be more effective. Simpler models may require less aggressive regularization or no regularization at all.\n",
    "\n",
    "2. **Data Characteristics**: Analyze the characteristics of your dataset, such as the size, distribution, and noise level. If the dataset is small or noisy, stronger regularization may be necessary to prevent overfitting. Additionally, if the features in the dataset have varying importance or exhibit multicollinearity, techniques like L1 regularization may be beneficial for feature selection.\n",
    "\n",
    "3. **Computational Resources**: Consider the computational resources available for training the model. Some regularization techniques, such as Dropout or data augmentation, may increase training time and memory requirements due to the additional computations or data manipulations involved. Choose regularization techniques that strike a balance between effectiveness and computational cost.\n",
    "\n",
    "4. **Interpretability**: Consider the interpretability of the model and the importance of feature selection. Techniques like L1 regularization encourage sparsity in the model's parameters, making it easier to interpret and understand the model's decision-making process. If interpretability is crucial, prioritize techniques that promote sparsity or feature selection.\n",
    "\n",
    "5. **Performance Metrics**: Evaluate the performance metrics that are relevant to your task, such as accuracy, precision, recall, or F1 score. Choose regularization techniques that optimize these metrics on both the training and validation datasets. Experiment with different regularization techniques and hyperparameters to find the combination that yields the best performance.\n",
    "\n",
    "6. **Domain Expertise**: Consider domain-specific knowledge and insights that may guide the choice of regularization techniques. Certain domains or applications may have specific requirements or constraints that influence the selection of regularization techniques. Consult with domain experts or practitioners familiar with the problem domain to gain insights into which techniques are most suitable.\n",
    "\n",
    "7. **Ensemble Methods**: Explore the use of ensemble methods, such as bagging or boosting, which combine multiple models to improve performance and generalization. Ensemble methods can act as a form of regularization by reducing variance and improving robustness to noise in the data. Experiment with different ensemble strategies and regularization techniques to find the optimal combination for your task.\n",
    "\n",
    "In summary, choosing the appropriate regularization technique for a deep learning task involves considering factors such as model complexity, data characteristics, computational resources, interpretability, performance metrics, domain expertise, and ensemble methods. By carefully weighing these considerations and tradeoffs, you can select the regularization technique or combination of techniques that best suits the requirements and constraints of your specific task. Experimentation and iterative refinement may be necessary to find the optimal regularization strategy for achieving high performance and generalization in your deep learning models."
   ]
  },
  {
   "cell_type": "code",
   "execution_count": null,
   "id": "0e27ad37-8a1a-49b5-be58-9868b9459561",
   "metadata": {},
   "outputs": [],
   "source": []
  }
 ],
 "metadata": {
  "kernelspec": {
   "display_name": "Python 3 (ipykernel)",
   "language": "python",
   "name": "python3"
  },
  "language_info": {
   "codemirror_mode": {
    "name": "ipython",
    "version": 3
   },
   "file_extension": ".py",
   "mimetype": "text/x-python",
   "name": "python",
   "nbconvert_exporter": "python",
   "pygments_lexer": "ipython3",
   "version": "3.10.8"
  }
 },
 "nbformat": 4,
 "nbformat_minor": 5
}
